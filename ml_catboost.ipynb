{
  "nbformat": 4,
  "nbformat_minor": 0,
  "metadata": {
    "colab": {
      "name": "Untitled11.ipynb",
      "provenance": [],
      "authorship_tag": "ABX9TyMYR0z+DxyXMRHeSeS3Puj0",
      "include_colab_link": true
    },
    "kernelspec": {
      "name": "python3",
      "display_name": "Python 3"
    },
    "language_info": {
      "name": "python"
    }
  },
  "cells": [
    {
      "cell_type": "markdown",
      "metadata": {
        "id": "view-in-github",
        "colab_type": "text"
      },
      "source": [
        "<a href=\"https://colab.research.google.com/github/dessqa/wids_2022/blob/main/ml_catboost.ipynb\" target=\"_parent\"><img src=\"https://colab.research.google.com/assets/colab-badge.svg\" alt=\"Open In Colab\"/></a>"
      ]
    },
    {
      "cell_type": "code",
      "execution_count": 1,
      "metadata": {
        "id": "NP8iIvL5x2Uk"
      },
      "outputs": [],
      "source": [
        "# Pandas and numpy for data manipulation\n",
        "import pandas as pd\n",
        "import numpy as np\n",
        "\n",
        "# No warnings about setting value on copy of slice\n",
        "pd.options.mode.chained_assignment = None\n",
        "pd.set_option('display.max_columns', 60)\n",
        "\n",
        "# Matplotlib for visualization\n",
        "import matplotlib.pyplot as plt\n",
        "%matplotlib inline\n",
        "\n",
        "# Set default font size\n",
        "plt.rcParams['font.size'] = 24\n",
        "\n",
        "from IPython.core.pylabtools import figsize\n",
        "\n",
        "# Seaborn for visualization\n",
        "import seaborn as sns\n",
        "sns.set(font_scale = 2)\n",
        "\n",
        "# Imputing missing values and scaling values\n",
        "from sklearn.impute import SimpleImputer\n",
        "\n",
        "from sklearn.preprocessing import MinMaxScaler\n",
        "\n",
        "# Machine Learning Models\n",
        "from sklearn.linear_model import LinearRegression\n",
        "from sklearn.ensemble import RandomForestRegressor, GradientBoostingRegressor\n",
        "from sklearn.svm import SVR\n",
        "from sklearn.neighbors import KNeighborsRegressor\n",
        "\n",
        "# Hyperparameter tuning\n",
        "from sklearn.model_selection import RandomizedSearchCV, GridSearchCV"
      ]
    },
    {
      "cell_type": "code",
      "source": [
        "# Read in data into dataframes \n",
        "train_features = pd.read_csv('training_features.csv')\n",
        "test_features = pd.read_csv('testing_features.csv')\n",
        "train_labels = pd.read_csv('training_labels.csv')\n",
        "test_labels = pd.read_csv('testing_labels.csv')\n",
        "predict_ = pd.read_csv('prediction.csv')\n",
        "\n",
        "# Display sizes of data\n",
        "print('Training Feature Size: ', train_features.shape)\n",
        "print('Testing Feature Size:  ', test_features.shape)\n",
        "print('Training Labels Size:  ', train_labels.shape)\n",
        "print('Testing Labels Size:   ', test_labels.shape)\n",
        "print('Predict Feature Size:   ', predict_.shape)"
      ],
      "metadata": {
        "colab": {
          "base_uri": "https://localhost:8080/"
        },
        "id": "-8Ka0rvmyDUL",
        "outputId": "e27ef97e-6c89-4852-ee70-6b1ffe958b77"
      },
      "execution_count": 2,
      "outputs": [
        {
          "output_type": "stream",
          "name": "stdout",
          "text": [
            "Training Feature Size:  (53029, 83)\n",
            "Testing Feature Size:   (22728, 83)\n",
            "Training Labels Size:   (53029, 1)\n",
            "Testing Labels Size:    (22728, 1)\n",
            "Predict Feature Size:    (9705, 83)\n"
          ]
        }
      ]
    },
    {
      "cell_type": "code",
      "source": [
        "# Create an imputer object with a median filling strategy\n",
        "imputer = SimpleImputer(strategy='median')\n",
        "\n",
        "# Train on the training features\n",
        "imputer.fit(train_features)\n",
        "\n",
        "# Transform both training data and testing data\n",
        "X = imputer.transform(train_features)\n",
        "X_test = imputer.transform(test_features)\n",
        "pred = imputer.transform(predict_)"
      ],
      "metadata": {
        "id": "SQx1-AjgybbP"
      },
      "execution_count": 3,
      "outputs": []
    },
    {
      "cell_type": "code",
      "source": [
        "print('Missing values in training features: ', np.sum(np.isnan(X)))\n",
        "print('Missing values in testing features:  ', np.sum(np.isnan(X_test)))\n",
        "print('Missing values in predict features:  ', np.sum(np.isnan(pred)))\n"
      ],
      "metadata": {
        "colab": {
          "base_uri": "https://localhost:8080/"
        },
        "id": "VlFHJdgvygx-",
        "outputId": "f524dc88-9c92-4a19-8d05-29fa9294f025"
      },
      "execution_count": 4,
      "outputs": [
        {
          "output_type": "stream",
          "name": "stdout",
          "text": [
            "Missing values in training features:  0\n",
            "Missing values in testing features:   0\n",
            "Missing values in predict features:   0\n"
          ]
        }
      ]
    },
    {
      "cell_type": "code",
      "source": [
        "# Create the scaler object with a range of 0-1\n",
        "scaler = MinMaxScaler(feature_range=(0, 1))\n",
        "\n",
        "# Fit on the training data\n",
        "scaler.fit(X)\n",
        "\n",
        "# Transform both the training and testing data\n",
        "X = scaler.transform(X)\n",
        "X_test = scaler.transform(X_test)\n",
        "\n",
        "pred = scaler.transform(pred)"
      ],
      "metadata": {
        "id": "YGQq08xHyjw8"
      },
      "execution_count": 5,
      "outputs": []
    },
    {
      "cell_type": "code",
      "source": [
        "# Convert y to one-dimensional array (vector)\n",
        "y = np.array(train_labels).reshape((-1, ))\n",
        "y_test = np.array(test_labels).reshape((-1, ))"
      ],
      "metadata": {
        "id": "IUDKWlqwyoQz"
      },
      "execution_count": 6,
      "outputs": []
    },
    {
      "cell_type": "code",
      "source": [
        ""
      ],
      "metadata": {
        "colab": {
          "base_uri": "https://localhost:8080/",
          "height": 304
        },
        "id": "9Wa3u1rizphT",
        "outputId": "2e5e3fda-7631-483b-daef-17a67a0a333d"
      },
      "execution_count": 13,
      "outputs": [
        {
          "output_type": "error",
          "ename": "ModuleNotFoundError",
          "evalue": "ignored",
          "traceback": [
            "\u001b[0;31m---------------------------------------------------------------------------\u001b[0m",
            "\u001b[0;31mModuleNotFoundError\u001b[0m                       Traceback (most recent call last)",
            "\u001b[0;32m<ipython-input-13-d222a454d36a>\u001b[0m in \u001b[0;36m<module>\u001b[0;34m()\u001b[0m\n\u001b[0;32m----> 1\u001b[0;31m \u001b[0;32mfrom\u001b[0m \u001b[0mcatboost\u001b[0m \u001b[0;32mimport\u001b[0m \u001b[0mCatBoostRegressor\u001b[0m\u001b[0;34m\u001b[0m\u001b[0;34m\u001b[0m\u001b[0m\n\u001b[0m",
            "\u001b[0;31mModuleNotFoundError\u001b[0m: No module named 'catboost'",
            "",
            "\u001b[0;31m---------------------------------------------------------------------------\u001b[0;32m\nNOTE: If your import is failing due to a missing package, you can\nmanually install dependencies using either !pip or !apt.\n\nTo view examples of installing some common dependencies, click the\n\"Open Examples\" button below.\n\u001b[0;31m---------------------------------------------------------------------------\u001b[0m\n"
          ],
          "errorDetails": {
            "actions": [
              {
                "action": "open_url",
                "actionText": "Open Examples",
                "url": "/notebooks/snippets/importing_libraries.ipynb"
              }
            ]
          }
        }
      ]
    },
    {
      "cell_type": "code",
      "source": [
        "!pip install catboost"
      ],
      "metadata": {
        "colab": {
          "base_uri": "https://localhost:8080/"
        },
        "id": "bR1LFvbm3EJF",
        "outputId": "074d5db8-858d-4fd9-bd87-9822e60d337a"
      },
      "execution_count": 14,
      "outputs": [
        {
          "output_type": "stream",
          "name": "stdout",
          "text": [
            "Collecting catboost\n",
            "  Downloading catboost-1.0.4-cp37-none-manylinux1_x86_64.whl (76.1 MB)\n",
            "\u001b[K     |████████████████████████████████| 76.1 MB 1.3 MB/s \n",
            "\u001b[?25hRequirement already satisfied: plotly in /usr/local/lib/python3.7/dist-packages (from catboost) (5.5.0)\n",
            "Requirement already satisfied: six in /usr/local/lib/python3.7/dist-packages (from catboost) (1.15.0)\n",
            "Requirement already satisfied: pandas>=0.24.0 in /usr/local/lib/python3.7/dist-packages (from catboost) (1.3.5)\n",
            "Requirement already satisfied: matplotlib in /usr/local/lib/python3.7/dist-packages (from catboost) (3.2.2)\n",
            "Requirement already satisfied: graphviz in /usr/local/lib/python3.7/dist-packages (from catboost) (0.10.1)\n",
            "Requirement already satisfied: scipy in /usr/local/lib/python3.7/dist-packages (from catboost) (1.4.1)\n",
            "Requirement already satisfied: numpy>=1.16.0 in /usr/local/lib/python3.7/dist-packages (from catboost) (1.19.5)\n",
            "Requirement already satisfied: python-dateutil>=2.7.3 in /usr/local/lib/python3.7/dist-packages (from pandas>=0.24.0->catboost) (2.8.2)\n",
            "Requirement already satisfied: pytz>=2017.3 in /usr/local/lib/python3.7/dist-packages (from pandas>=0.24.0->catboost) (2018.9)\n",
            "Requirement already satisfied: pyparsing!=2.0.4,!=2.1.2,!=2.1.6,>=2.0.1 in /usr/local/lib/python3.7/dist-packages (from matplotlib->catboost) (3.0.7)\n",
            "Requirement already satisfied: cycler>=0.10 in /usr/local/lib/python3.7/dist-packages (from matplotlib->catboost) (0.11.0)\n",
            "Requirement already satisfied: kiwisolver>=1.0.1 in /usr/local/lib/python3.7/dist-packages (from matplotlib->catboost) (1.3.2)\n",
            "Requirement already satisfied: tenacity>=6.2.0 in /usr/local/lib/python3.7/dist-packages (from plotly->catboost) (8.0.1)\n",
            "Installing collected packages: catboost\n",
            "Successfully installed catboost-1.0.4\n"
          ]
        }
      ]
    },
    {
      "cell_type": "code",
      "source": [
        "from catboost import CatBoostRegressor"
      ],
      "metadata": {
        "id": "C2hoPLFm3Hsh"
      },
      "execution_count": 15,
      "outputs": []
    },
    {
      "cell_type": "code",
      "source": [
        "catb1 = CatBoostRegressor(\n",
        "    verbose=1000,\n",
        "    early_stopping_rounds=9,\n",
        "    #random_state=41,\n",
        "    random_seed=417,\n",
        "    max_depth=12,\n",
        "    # task_type='GPU',\n",
        "    learning_rate=0.022699999,\n",
        "    iterations=24000,\n",
        "    eval_metric='RMSE'    \n",
        ")"
      ],
      "metadata": {
        "id": "bgp-n7Gf3U74"
      },
      "execution_count": 18,
      "outputs": []
    },
    {
      "cell_type": "code",
      "source": [
        "# 1 модель для коммерческого здания\n",
        "catb1.fit(X, y)"
      ],
      "metadata": {
        "colab": {
          "base_uri": "https://localhost:8080/"
        },
        "id": "w43Xxaq63Xbb",
        "outputId": "ec870644-db9e-4271-8bd1-dc9ccfc04ca4"
      },
      "execution_count": 21,
      "outputs": [
        {
          "output_type": "stream",
          "name": "stderr",
          "text": [
            "Custom logger is already specified. Specify more than one logger at same time is not thread safe."
          ]
        },
        {
          "output_type": "stream",
          "name": "stdout",
          "text": [
            "0:\tlearn: 58.5643609\ttotal: 226ms\tremaining: 1h 30m 33s\n",
            "1000:\tlearn: 34.4252314\ttotal: 1m 49s\tremaining: 41m 59s\n",
            "2000:\tlearn: 29.9400020\ttotal: 3m 38s\tremaining: 40m\n",
            "3000:\tlearn: 27.3026698\ttotal: 5m 23s\tremaining: 37m 45s\n",
            "4000:\tlearn: 25.2821732\ttotal: 7m 9s\tremaining: 35m 45s\n",
            "5000:\tlearn: 23.6577195\ttotal: 8m 54s\tremaining: 33m 50s\n",
            "6000:\tlearn: 22.2948743\ttotal: 10m 40s\tremaining: 32m 2s\n",
            "7000:\tlearn: 21.1302464\ttotal: 12m 27s\tremaining: 30m 15s\n",
            "8000:\tlearn: 20.0835870\ttotal: 14m 15s\tremaining: 28m 30s\n",
            "9000:\tlearn: 19.1392953\ttotal: 16m 3s\tremaining: 26m 45s\n",
            "10000:\tlearn: 18.2771641\ttotal: 17m 51s\tremaining: 24m 59s\n",
            "11000:\tlearn: 17.4757972\ttotal: 19m 38s\tremaining: 23m 12s\n",
            "12000:\tlearn: 16.7596121\ttotal: 21m 25s\tremaining: 21m 25s\n",
            "13000:\tlearn: 16.1461448\ttotal: 23m 12s\tremaining: 19m 37s\n",
            "14000:\tlearn: 15.5793870\ttotal: 25m\tremaining: 17m 51s\n",
            "15000:\tlearn: 15.0543024\ttotal: 26m 47s\tremaining: 16m 4s\n",
            "16000:\tlearn: 14.5631666\ttotal: 28m 33s\tremaining: 14m 16s\n",
            "17000:\tlearn: 14.1256265\ttotal: 30m 20s\tremaining: 12m 29s\n",
            "18000:\tlearn: 13.6965455\ttotal: 32m 6s\tremaining: 10m 42s\n",
            "19000:\tlearn: 13.3050435\ttotal: 33m 53s\tremaining: 8m 55s\n",
            "20000:\tlearn: 12.9410990\ttotal: 35m 40s\tremaining: 7m 7s\n",
            "21000:\tlearn: 12.5818047\ttotal: 37m 27s\tremaining: 5m 20s\n",
            "22000:\tlearn: 12.2545976\ttotal: 39m 14s\tremaining: 3m 33s\n",
            "23000:\tlearn: 11.9436505\ttotal: 41m 2s\tremaining: 1m 46s\n",
            "23999:\tlearn: 11.6373026\ttotal: 42m 51s\tremaining: 0us\n"
          ]
        },
        {
          "output_type": "execute_result",
          "data": {
            "text/plain": [
              "<catboost.core.CatBoostRegressor at 0x7fb268a0a390>"
            ]
          },
          "metadata": {},
          "execution_count": 21
        }
      ]
    },
    {
      "cell_type": "code",
      "source": [
        "sub_predict1 = catb1.predict(X_test)\n"
      ],
      "metadata": {
        "id": "UCplKiqj3bTS"
      },
      "execution_count": 22,
      "outputs": []
    },
    {
      "cell_type": "code",
      "source": [
        "from sklearn.metrics import mean_absolute_error\n"
      ],
      "metadata": {
        "id": "BakpeSDQCUBv"
      },
      "execution_count": 23,
      "outputs": []
    },
    {
      "cell_type": "code",
      "source": [
        "mean_absolute_error(y_test, sub_predict1)\n"
      ],
      "metadata": {
        "colab": {
          "base_uri": "https://localhost:8080/"
        },
        "id": "ufUQiRyVCLdX",
        "outputId": "4fd2160a-b71c-4a30-80a3-88c6d7dac797"
      },
      "execution_count": 24,
      "outputs": [
        {
          "output_type": "execute_result",
          "data": {
            "text/plain": [
              "19.323311341573746"
            ]
          },
          "metadata": {},
          "execution_count": 24
        }
      ]
    },
    {
      "cell_type": "code",
      "source": [
        "sub_predict = catb1.predict(pred)\n"
      ],
      "metadata": {
        "id": "zJRpAgrYCeVl"
      },
      "execution_count": 25,
      "outputs": []
    },
    {
      "cell_type": "code",
      "source": [
        "submit_sample = pd.read_csv('sample_solution.csv')"
      ],
      "metadata": {
        "id": "Tw2v6nEQCw_l"
      },
      "execution_count": 26,
      "outputs": []
    },
    {
      "cell_type": "code",
      "source": [
        "submit_sample.site_eui = sub_predict\n",
        "submit_sample.to_csv(\"submission.csv\", index=False)"
      ],
      "metadata": {
        "id": "5Atpsv0UCoLm"
      },
      "execution_count": 27,
      "outputs": []
    },
    {
      "cell_type": "code",
      "source": [
        ""
      ],
      "metadata": {
        "id": "QrIDksazC38k"
      },
      "execution_count": null,
      "outputs": []
    }
  ]
}